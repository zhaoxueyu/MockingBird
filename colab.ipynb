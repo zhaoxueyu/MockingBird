{
 "cells": [
  {
   "cell_type": "code",
   "execution_count": null,
   "metadata": {},
   "outputs": [],
   "source": [
    "# !rm -rf /content/MockingBird\n",
    "\n",
    "!pip install torch==1.12.0\n",
    "!pip install ffmpeg\n",
    "\n",
    "!git clone https://github.com/zhaoxueyu/MockingBird.git\n",
    "%cd /content/MockingBird\n",
    "!pip install -r requirements.txt"
   ]
  }
 ],
 "metadata": {
  "language_info": {
   "name": "python"
  }
 },
 "nbformat": 4,
 "nbformat_minor": 2
}
